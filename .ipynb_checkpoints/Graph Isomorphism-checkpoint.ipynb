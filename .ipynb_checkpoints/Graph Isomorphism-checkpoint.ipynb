{
 "cells": [
  {
   "cell_type": "markdown",
   "id": "ad993c00",
   "metadata": {},
   "source": [
    "## Graph Isomorphism"
   ]
  },
  {
   "cell_type": "code",
   "execution_count": 1,
   "id": "55b7b7a0",
   "metadata": {},
   "outputs": [],
   "source": [
    "# Imports\n",
    "import matplotlib.pyplot as plt\n",
    "import numpy as np\n",
    "import networkx as nx\n",
    "import itertools as it"
   ]
  },
  {
   "cell_type": "markdown",
   "id": "deb9686f",
   "metadata": {},
   "source": [
    "#### The definition of Graph Isomorphism\n",
    "According to graph theory, graph isomorphism or the isomorphism of graphs is a 1 to 1 equivalence between two graphs based on each graphs vertices (these being the points at which lines meet one another) all having the same equivalent connections, as their counterparts on the other graph, for example the red and green graphs are isomorphic to one another."
   ]
  },
  {
   "cell_type": "code",
   "execution_count": 4,
   "id": "0d8bb61b",
   "metadata": {},
   "outputs": [
    {
     "data": {
      "image/png": "[encoded data removed]",
      "text/plain": [
       "<Figure size 432x288 with 2 Axes>"
      ]
     },
     "metadata": {},
     "output_type": "display_data"
    }
   ],
   "source": [
    "example1 = nx.Graph()\n",
    "example1Connections = [('1', '2'), ('1', '3'), ('1', '4'), ('3', '4'), ('2', '5'), ('2', '4'), ('4', '5')]\n",
    "example1.add_edges_from(example1Connections)\n",
    "\n",
    "\n",
    "example2 = nx.Graph()\n",
    "example2Connections = [('A', 'B'), ('A', 'C'), ('A', 'D'), ('C', 'D'),('B', 'E'), ('B', 'D'), ('D', 'E')]\n",
    "example2.add_edges_from(example2Connections)\n",
    "\n",
    "plt.subplot(121)\n",
    "nx.draw(example1, with_labels=True, node_color=\"red\")\n",
    "\n",
    "\n",
    "plt.subplot(122)\n",
    "nx.draw(example2, with_labels=True, node_color=\"green\")\n",
    "\n",
    "plt.show()"
   ]
  },
  {
   "cell_type": "code",
   "execution_count": null,
   "id": "387fdb28",
   "metadata": {},
   "outputs": [],
   "source": [
    "pointsList = [[],[]]\n",
    "pointsListx = [3, 5, 4, 3]\n",
    "pointsListy = [3, 5, 2, 3]\n",
    "\n",
    "#def addPoint(listOfCoords, xCoord, yCoord):\n",
    "#    listOfCoords[0].append(xCoord)\n",
    "  #  listOfCoords[1].append(yCoord)\n",
    "\n",
    "    \n",
    "addPoint(pointsList, 3, 3)\n",
    "addPoint(pointsList, 5, 5)\n",
    "addPoint(pointsList, 4, 2)\n",
    "addPoint(pointsList, 3, 3)\n",
    "addPoint(pointsList, 1, 6)\n",
    "addPoint(pointsList, 5, 5)\n",
    "\n",
    "fig = go.Figure(go.Scatter(x=pointsList[0], y = pointsList[1]))\n",
    "\n",
    "fig.update_xaxes(range=[0, 16])\n",
    "fig.update_yaxes(range=[0, 8])\n",
    "\n",
    "\n",
    "for i in range(0):\n",
    "    fig.add_shape(type=\"line\",\n",
    "                 line_color=\"Black\", fillcolor=\"Black\",\n",
    "                 x0 = int(pointsList[i][0]), y0 = int(pointsList[i][1]),\n",
    "                 x1 = int(pointsList[i + 1][0]), y1 = int(pointsList[i + 1][1]),\n",
    "                #line =dict(color=\"Black\", width = 3,),\n",
    "    )\n",
    "    print(i)\n",
    "\n",
    "    \n",
    "fig.update_layout(\n",
    "    margin=dict(l=30, r=30, b = 20),\n",
    "    height = 300, width = 600, \n",
    "    plot_bgcolor=\"white\"\n",
    ")\n",
    "\n",
    "\n",
    "fig.show()"
   ]
  },
  {
   "cell_type": "code",
   "execution_count": null,
   "id": "0a46dc30",
   "metadata": {},
   "outputs": [],
   "source": [
    "import math\n",
    "\n",
    "def isomorphismTest(graph1, graph2):\n",
    "    graph1AdjacencyTable = nx.to_numpy_array(graph1).astype(np.uint8)\n",
    "    graph2AdjacencyTable = nx.to_numpy_array(graph2).astype(np.uint8)\n",
    "    \n",
    "    graph2Permutations = it.permutations(range(len(graph2AdjacencyTable)))\n",
    "    \n",
    "    I = np.identity(len(graph2AdjacencyTable)).astype(np.uint8)\n",
    "    \n",
    "    print(graph1AdjacencyTable1)\n",
    "    \n",
    "    for p in graph2Permutations:\n",
    "        print(I[list(p)])\n",
    "    \n",
    "    #numPoints = math.sqrt(len(firstString)) + 1\n",
    "    \n",
    "    #for i in range(len(firstString)):\n",
    "     #   if ((i - 1) * (i) == len(firstString)):\n",
    "      #      numPoints = i\n",
    "    #if mode == 1:\n",
    "     #   return numPoints\n",
    "    \n",
    "    \n",
    "    #match = True\n",
    "    #for i in range(len(firstString)):\n",
    "     #   if firstString[i] != secondString[i]:\n",
    "      #      match = False\n",
    "    \n",
    "    #return match\n",
    "\n",
    "\n",
    "#print(isomorphismTest(\"11101101111010110111\", \"11101101111010110111\", 2))"
   ]
  },
  {
   "cell_type": "code",
   "execution_count": null,
   "id": "9430f3ff",
   "metadata": {},
   "outputs": [],
   "source": [
    "def addPoint(listOfCoords, xCoord, yCoord):\n",
    "    listOfCoords[0].append(xCoord)\n",
    "    listOfCoords[1].append(yCoord)"
   ]
  },
  {
   "cell_type": "code",
   "execution_count": null,
   "id": "76ce06a8",
   "metadata": {},
   "outputs": [],
   "source": []
  }
 ],
 "metadata": {
  "kernelspec": {
   "display_name": "Python 3 (ipykernel)",
   "language": "python",
   "name": "python3"
  },
  "language_info": {
   "codemirror_mode": {
    "name": "ipython",
    "version": 3
   },
   "file_extension": ".py",
   "mimetype": "text/x-python",
   "name": "python",
   "nbconvert_exporter": "python",
   "pygments_lexer": "ipython3",
   "version": "3.9.7"
  }
 },
 "nbformat": 4,
 "nbformat_minor": 5
}
