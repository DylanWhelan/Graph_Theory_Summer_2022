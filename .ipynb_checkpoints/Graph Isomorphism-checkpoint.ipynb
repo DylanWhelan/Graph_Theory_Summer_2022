{
 "cells": [
  {
   "cell_type": "markdown",
   "id": "ad993c00",
   "metadata": {},
   "source": [
    "## Graph Isomorphism"
   ]
  },
  {
   "cell_type": "code",
   "execution_count": 1,
   "id": "ef0b5861",
   "metadata": {},
   "outputs": [],
   "source": [
    "# Imports\n",
    "import matplotlib.pyplot as plt\n",
    "import numpy as np\n",
    "import networkx as nx\n",
    "import itertools as it"
   ]
  },
  {
   "cell_type": "markdown",
   "id": "deb9686f",
   "metadata": {},
   "source": [
    "#### The definition of Graph Isomorphism\n",
    "According to graph theory, graph isomorphism or the isomorphism of graphs is a 1 to 1 equivalence between two graphs based on each graphs vertices (these being the points at which lines meet one another) all having the same equivalent connections, as their counterparts on the other graph, for example the red and green graphs are isomorphic to one another."
   ]
  },
  {
   "cell_type": "code",
   "execution_count": 2,
   "id": "e8a543c5",
   "metadata": {
    "scrolled": true
   },
   "outputs": [
    {
     "data": {
      "image/png": "[encoded data removed]",
      "text/plain": [
       "<Figure size 432x288 with 2 Axes>"
      ]
     },
     "metadata": {},
     "output_type": "display_data"
    }
   ],
   "source": [
    "example1 = nx.Graph()\n",
    "example1Connections = [('1', '2'), ('1', '3'), ('1', '4'), ('3', '4'), ('2', '5'), ('2', '4'), ('4', '5')]\n",
    "example1.add_edges_from(example1Connections)\n",
    "\n",
    "\n",
    "example2 = nx.Graph()\n",
    "example2Connections = [('A', 'B'), ('A', 'C'), ('A', 'D'), ('C', 'D'),('B', 'E'), ('B', 'D'), ('D', 'E')]\n",
    "example2.add_edges_from(example2Connections)\n",
    "\n",
    "plt.subplot(121)\n",
    "nx.draw(example1, with_labels=True, node_color=\"red\")\n",
    "\n",
    "\n",
    "plt.subplot(122)\n",
    "nx.draw(example2, with_labels=True, node_color=\"green\")\n",
    "\n",
    "plt.show()"
   ]
  },
  {
   "cell_type": "markdown",
   "id": "64978137",
   "metadata": {},
   "source": [
    "## Function to Determine Isomorphism of two graphs\n",
    "The functions below have been put together for the purpose of detecting the isomorphism of two graphs"
   ]
  },
  {
   "cell_type": "code",
   "execution_count": 5,
   "id": "0a46dc30",
   "metadata": {},
   "outputs": [
    {
     "name": "stdout",
     "output_type": "stream",
     "text": [
      "True\n"
     ]
    }
   ],
   "source": [
    "# The reason for the ordering of the function is to ensure that each has been declared before it is called\n",
    "\n",
    "# To determine whether two graphs are isomorphic, the two graphs are converted into adjacency tables\n",
    "# The adjacency table of the first graph, is then compared to all possible permutations of the adjacency table of the second graph\n",
    "# If for any the permutations, the two tables are found to be the same, the graphs are proven to be isomorphic\n",
    "\n",
    "# The purpose of this function is to enable the program to swap the points within the array\n",
    "# This is important as we need to test all valid arrangements of the points of a graph,\n",
    "# Before it can be said for certain that two graphs are not isomorphic\n",
    "\n",
    "# This function takes a numpy_array, two integers as arguments\n",
    "# The integers represent the points to swapped\n",
    "def rearrange_array(arr, firstPoint, secondPoint):\n",
    "    # First all relevant values for the points on the y axes of the array are swapped in the below for loop\n",
    "    for i in range(len(arr)):\n",
    "        arr[i][firstPoint], arr[i][secondPoint] = arr[i][secondPoint], arr[i][firstPoint]\n",
    "    \n",
    "    # The points are then swapped on the x axes\n",
    "    tempArr = arr[firstPoint].copy()\n",
    "    arr[firstPoint] = arr[secondPoint]\n",
    "    arr[secondPoint] = tempArr\n",
    "    \n",
    "    # The numpy array representing the adjacency of table of the graph is returned, with the points swapped\n",
    "    return arr\n",
    "\n",
    "\n",
    "# The purpose of this function is to test all possible permutations of the adjacency tables to determine isomorphism\n",
    "# The implementation for this function is derived from this source: https://www.geeksforgeeks.org/heaps-algorithm-for-generating-permutations/\n",
    "# The implementation has been altered to suit the requirements of this algorithm\n",
    "\n",
    "# This functions takes two numpy_arrays and an integer as arguments\n",
    "def test_permutation(arrayToMatch, arrayToChange, size):\n",
    "    \n",
    "    # Once the size variable has reached 1, the permutation has been successfully generated and is ready to be compared\n",
    "    # The results of the comparison are returned to the calling function\n",
    "    if size == 1:\n",
    "        return np.array_equal(arrayToMatch, arrayToChange)\n",
    "    \n",
    "    # The for loop iterates through every element in the array, in this case representing the points of the graph,\n",
    "    for i in range(size):\n",
    "        \n",
    "        # The function is called recursively, with the arrays passed in alongside, and a reduced size value\n",
    "        \n",
    "        result = test_permutation(arrayToMatch, arrayToChange, size - 1)\n",
    "        \n",
    "        # If the test is successful,the success is immediately returned, as no more test are required \n",
    "        if result == True:\n",
    "            return result\n",
    "        \n",
    "        # When the value of size is odd, the first and last points are swapped\n",
    "        if size % 2 == 1:\n",
    "            arrayToChange = rearrange_array(arrayToChange, 0, size -1)\n",
    "        # When the value of size is even, the point represented by i and the last point are swapped\n",
    "        else:\n",
    "            arrayToChange = rearrange_array(arrayToChange, i, size -1)\n",
    "            \n",
    "        return False\n",
    "\n",
    "            \n",
    "# This is the function responsible for utlizing the 2 earlier defined functions\n",
    "# This functions takes two networkx graphs as arguments\n",
    "def isomorphism_test(graph1, graph2):\n",
    "    \n",
    "    # The two networkx graphs are converted to numpy_arrays, which are used to represent the graphs adjacency tables\n",
    "    graph1AdjacencyTable = nx.to_numpy_array(graph1).astype(np.uint8)\n",
    "    graph2AdjacencyTable = nx.to_numpy_array(graph2).astype(np.uint8)\n",
    "    \n",
    "    # The test_permutation function is called to test all permutations of graph 2 against graph 1\n",
    "    return test_permutation(graph1AdjacencyTable, graph2AdjacencyTable, len(graph2AdjacencyTable))\n",
    "\n",
    "print(isomorphism_test(example1, example2))"
   ]
  },
  {
   "cell_type": "code",
   "execution_count": null,
   "id": "986c539d",
   "metadata": {},
   "outputs": [],
   "source": []
  }
 ],
 "metadata": {
  "kernelspec": {
   "display_name": "Python 3 (ipykernel)",
   "language": "python",
   "name": "python3"
  },
  "language_info": {
   "codemirror_mode": {
    "name": "ipython",
    "version": 3
   },
   "file_extension": ".py",
   "mimetype": "text/x-python",
   "name": "python",
   "nbconvert_exporter": "python",
   "pygments_lexer": "ipython3",
   "version": "3.9.7"
  }
 },
 "nbformat": 4,
 "nbformat_minor": 5
}
