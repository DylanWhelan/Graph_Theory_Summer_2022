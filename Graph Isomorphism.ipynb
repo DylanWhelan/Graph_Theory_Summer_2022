{
 "cells": [
  {
   "cell_type": "markdown",
   "id": "ad993c00",
   "metadata": {},
   "source": [
    "## Graph Isomorphism"
   ]
  },
  {
   "cell_type": "markdown",
   "id": "deb9686f",
   "metadata": {},
   "source": [
    "#### The definition of Graph Isomorphism\n",
    "It can be determined that 2 graphs are isomorphic if given two graphs 1 and 2, all the points on graph 1 have corresponding points on graph 2 with all the same relative connections"
   ]
  },
  {
   "cell_type": "code",
   "execution_count": 10,
   "id": "0a46dc30",
   "metadata": {},
   "outputs": [
    {
     "name": "stdout",
     "output_type": "stream",
     "text": [
      "False\n"
     ]
    }
   ],
   "source": [
    "import math\n",
    "\n",
    "def isomorphismTest(firstString, secondString, mode):\n",
    "    if len(firstString) != len(secondString):\n",
    "        return False\n",
    "    \n",
    "    #numPoints = math.sqrt(len(firstString)) + 1\n",
    "    \n",
    "    for i in range(len(firstString)):\n",
    "        if ((i - 1) * (i) == len(firstString)):\n",
    "            numPoints = i\n",
    "    if mode == 1:\n",
    "        return numPoints\n",
    "    \n",
    "    \n",
    "    match = True\n",
    "    for i in range(len(firstString)):\n",
    "        if firstString[i] != secondString[i]:\n",
    "            match = False\n",
    "    \n",
    "    return match\n",
    "\n",
    "\n",
    "print(isomorphismTest(\"11101101111010110111\", \"11101101111010110111\", 2))"
   ]
  },
  {
   "cell_type": "code",
   "execution_count": null,
   "id": "9430f3ff",
   "metadata": {},
   "outputs": [],
   "source": []
  }
 ],
 "metadata": {
  "kernelspec": {
   "display_name": "Python 3 (ipykernel)",
   "language": "python",
   "name": "python3"
  },
  "language_info": {
   "codemirror_mode": {
    "name": "ipython",
    "version": 3
   },
   "file_extension": ".py",
   "mimetype": "text/x-python",
   "name": "python",
   "nbconvert_exporter": "python",
   "pygments_lexer": "ipython3",
   "version": "3.9.7"
  }
 },
 "nbformat": 4,
 "nbformat_minor": 5
}
