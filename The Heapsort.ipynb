{
 "cells": [
  {
   "cell_type": "markdown",
   "id": "402dc701",
   "metadata": {},
   "source": [
    "# The Heapsort"
   ]
  },
  {
   "cell_type": "code",
   "execution_count": 3,
   "id": "4b1c6797",
   "metadata": {},
   "outputs": [],
   "source": [
    "# Imports\n",
    "import random as rand\n",
    "import copy"
   ]
  },
  {
   "cell_type": "markdown",
   "id": "8d608b2f",
   "metadata": {},
   "source": [
    "## Python implementation of the Heapsort"
   ]
  },
  {
   "cell_type": "code",
   "execution_count": 6,
   "id": "32bb1615",
   "metadata": {},
   "outputs": [
    {
     "name": "stdout",
     "output_type": "stream",
     "text": [
      "[227, 119, 254, 255, 213, 27, 164, 90, 190, 179]\n",
      "[27, 90, 119, 164, 179, 190, 213, 227, 254, 255]\n"
     ]
    }
   ],
   "source": [
    "# Implementation of the Heapsort\n",
    "# The functions used here were derived from the heapsort function on this page: https://www.geeksforgeeks.org/heap-sort/\n",
    "def heap_sort(inputList): # The function for sorting lists is created here, the inputList is the list to sort\n",
    "    length = len(inputList)\n",
    "    \n",
    "    numCompares = 0\n",
    "    \n",
    "    for i in range(length//2 - 1, -1, -1): # The max heap is created\n",
    "        to_heap(inputList, length, i)\n",
    "    \n",
    "    for i in range(length-1, 0, -1): # The heap is reverted back to list form\n",
    "        inputList[i], inputList[0] = inputList[0], inputList[i]\n",
    "        to_heap(inputList, i, 0)\n",
    "\n",
    "def to_heap(inputList, listLength, index): # A subtree is created with the index value being the root\n",
    "    \n",
    "    numCompares = 0\n",
    "    \n",
    "    root = index\n",
    "    left = 2 * index + 1\n",
    "    right = 2 * index + 2\n",
    "    \n",
    "     # The root must be larger than either of it's children, or it will be swapped with the larger child\n",
    "    if left < listLength and inputList[root] < inputList[left]:\n",
    "         root = left\n",
    "        \n",
    "    if right < listLength and inputList[root] < inputList[right]:\n",
    "        root = right\n",
    "    \n",
    "    if root != index: # If the root has been changed and no longer matches, the index, the values stored at the new root and the index are swapped\n",
    "        inputList[index], inputList[root] = inputList[root], inputList[index] # Values are swapped\n",
    "        \n",
    "        numCompares += to_heap(inputList, listLength, root) # The tree is recreated with the the new root\n",
    "        \n",
    "    return numCompares\n",
    "\n",
    "        \n",
    "testList = []\n",
    "for i in range(0, 10):\n",
    "    testList.append(rand.randint(1, 255))\n",
    "print(testList)\n",
    "\n",
    "heap_sort(testList)\n",
    "print(testList)"
   ]
  },
  {
   "cell_type": "code",
   "execution_count": null,
   "id": "5b3fd682",
   "metadata": {},
   "outputs": [],
   "source": []
  }
 ],
 "metadata": {
  "kernelspec": {
   "display_name": "Python 3 (ipykernel)",
   "language": "python",
   "name": "python3"
  },
  "language_info": {
   "codemirror_mode": {
    "name": "ipython",
    "version": 3
   },
   "file_extension": ".py",
   "mimetype": "text/x-python",
   "name": "python",
   "nbconvert_exporter": "python",
   "pygments_lexer": "ipython3",
   "version": "3.9.7"
  }
 },
 "nbformat": 4,
 "nbformat_minor": 5
}
