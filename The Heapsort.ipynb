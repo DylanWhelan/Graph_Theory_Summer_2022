{
 "cells": [
  {
   "cell_type": "markdown",
   "id": "8a3571f3",
   "metadata": {},
   "source": [
    "# The Heapsort"
   ]
  },
  {
   "cell_type": "code",
   "execution_count": 1,
   "id": "bb00dd07",
   "metadata": {},
   "outputs": [],
   "source": [
    "# Imports\n",
    "import random as rand\n",
    "import networkx as nx\n",
    "import matplotlib.pyplot as plt\n",
    "import math\n",
    "import copy"
   ]
  },
  {
   "cell_type": "markdown",
   "id": "cbb30524",
   "metadata": {},
   "source": [
    "## Definition of a rooted binary tree\n",
    "To define a rooted binary tree, it is important to understand what a tree is, so we will begin with defining a tree as regards graph theory:\n",
    "\n",
    "A tree is an undirected graph in which there is always one path between any of its points:\n",
    "\n",
    "<B>Undirected:</B> In this context, undirected means that each connection between vertices is bidirectional (i.e. if p<sup>1</sup> is connected to p<sup>2</sup> then p<sup>2</sup> is also connected to p<sup>1</sup>)\n",
    "\n",
    "<B>Path:</B> A path is the sequence of connections between vertices, in the case of a tree, there must be one and only valid path between vertices on a graph. (E.g. Graph 1 below is a valid example of a tree, as there is only one possible path between any of the vertices. Graph 2 is not as each of the vertices have multiple paths to one another)"
   ]
  },
  {
   "cell_type": "code",
   "execution_count": 2,
   "id": "f0e4a727",
   "metadata": {},
   "outputs": [
    {
     "data": {
      "image/png": "[encoded data removed]",
      "text/plain": [
       "<Figure size 432x288 with 2 Axes>"
      ]
     },
     "metadata": {},
     "output_type": "display_data"
    }
   ],
   "source": [
    "# Graphs to be used as visual aid for definition of paths\n",
    "example1 = nx.Graph()\n",
    "example1Connections = [('1', '2'), ('1', '3'), ('3', '4')]\n",
    "example1.add_edges_from(example1Connections)\n",
    "\n",
    "example2 = nx.Graph()\n",
    "example2Connections = [('A', 'B'), ('A', 'D'), ('B', 'C'), ('C', 'D')]\n",
    "example2.add_edges_from(example2Connections)\n",
    "\n",
    "plt.subplot(121)\n",
    "plt.title('Graph 1')\n",
    "nx.draw(example1, with_labels=True, node_color=\"red\")\n",
    "\n",
    "plt.subplot(122)\n",
    "plt.title(\"Graph 2\")\n",
    "nx.draw(example2, with_labels=True, node_color=\"green\")\n",
    "\n",
    "plt.show()"
   ]
  },
  {
   "cell_type": "markdown",
   "id": "197b773c",
   "metadata": {},
   "source": [
    "### Now that the tree has been defined, it is time to define what a rooted tree means in this context: \n",
    "\n",
    "<b>Rooted Tree:</b> A rooted tree is a tree in which there is a particular vertex, typically called a root, which is used to define the position of the other vertices in the tree.\n",
    "\n",
    "In rooted trees, the typically way of defining Vertices is that of parent vertices and child vertices:\n",
    "\n",
    "<B>Parent Vertices:</B> A parent vertices is a vertices with associated child vertices, the amount of children a parent may possess is dependent upon the type of tree. It is worth noting that the root of a tree is the only vertex with no associated parent vertex.\n",
    "\n",
    "<B>Child Vertices:</B> A child vertex is attached to and defined by it's parent vertex, while parental vertices may have many children dependent on the tree type, a child vertex may only ever have one parental vertex.\n",
    "\n",
    "<B>Depth:</B> The depth of a rooted tree is the longest path between the root vertex and a child vertex, in furthering the parent-child metaphor, it could be thought of as the number of generations.\n",
    "\n",
    "\n",
    "### Now that both the tree and the rooted tree have been defined, it is time to explain what the binary refers to in binary rooted tree:\n",
    "\n",
    "<B>Binary Rooted Tree:</B> A binary rooted tree is a rooted tree in which every parental vertex can have a maximum of two children, for convenience these children are typically referred to as the left child and right child.\n",
    "\n",
    "Graph 3 below is an example of a binary rooted tree, while Graph 4 is not as the root vertex has 3 children."
   ]
  },
  {
   "cell_type": "code",
   "execution_count": 4,
   "id": "51ade252",
   "metadata": {},
   "outputs": [
    {
     "data": {
      "image/png": "[encoded data removed]",
      "text/plain": [
       "<Figure size 432x288 with 2 Axes>"
      ]
     },
     "metadata": {},
     "output_type": "display_data"
    }
   ],
   "source": [
    "example3 = [1, 2, 3, 4, 5, 6, 7, 8, 9]\n",
    "example4 = ['A', 'B', 'C', 'D', 'E', 'F', 'G', 'H', 'I']\n",
    "\n",
    "# This function is based off a function written by ATU Lecturer: Ian Mc\n",
    "def draw_tree(listToDraw, numChildren):\n",
    "    # Creates a balanced tree to represent the list passed in, note that the tree is blank\n",
    "    treeToDraw = nx.balanced_tree(numChildren, math.floor(math.log(len(listToDraw), numChildren)))\n",
    "    \n",
    "    #This removes all nodes from the tree, until the number of nodes match the length of the list passed in\n",
    "    treeToDraw.remove_nodes_from(list(treeToDraw.nodes)[len(listToDraw):])\n",
    "    \n",
    "    \n",
    "    treeToDraw = nx.relabel_nodes(treeToDraw, dict(zip(treeToDraw.nodes, listToDraw)), copy = True)\n",
    "    \n",
    "    # Due to issues with pydot, this line will be commented out for now\n",
    "    # If possible this will be rectified, as the graphs are quite difficult to analyze when layed out randomly\n",
    "    #positions = nx.drawing.nx_pydot.graphviz_layout(treeToDraw, prog=\"dot\")\n",
    "    \n",
    "    nx.draw(treeToDraw, with_labels=True, node_color='lightblue')\n",
    "\n",
    "plt.subplot(121)\n",
    "draw_tree(example3, 2)\n",
    "plt.title(\"Graph 3\")\n",
    "\n",
    "plt.subplot(122)\n",
    "draw_tree(example4, 3)\n",
    "plt.title(\"Graph 4\")\n",
    "\n",
    "plt.show()"
   ]
  },
  {
   "cell_type": "markdown",
   "id": "cef46535",
   "metadata": {},
   "source": [
    "## Python implementation of the Heapsort"
   ]
  },
  {
   "cell_type": "code",
   "execution_count": null,
   "id": "253ae82f",
   "metadata": {},
   "outputs": [],
   "source": [
    "# Implementation of the Heapsort\n",
    "# The functions used here were derived from the heapsort function on this page: https://www.geeksforgeeks.org/heap-sort/\n",
    "def heap_sort(inputList): # The function for sorting lists is created here, the inputList is the list to sort\n",
    "    length = len(inputList)\n",
    "    \n",
    "    numCompares = 0\n",
    "    \n",
    "    for i in range(length//2 - 1, -1, -1): # The max heap is created\n",
    "        to_heap(inputList, length, i)\n",
    "    \n",
    "    for i in range(length-1, 0, -1): # The heap is reverted back to list form\n",
    "        inputList[i], inputList[0] = inputList[0], inputList[i]\n",
    "        to_heap(inputList, i, 0)\n",
    "\n",
    "def to_heap(inputList, listLength, index): # A subtree is created with the index value being the root\n",
    "    \n",
    "    numCompares = 0\n",
    "    \n",
    "    root = index\n",
    "    left = 2 * index + 1\n",
    "    right = 2 * index + 2\n",
    "    \n",
    "     # The root must be larger than either of it's children, or it will be swapped with the larger child\n",
    "    if left < listLength and inputList[root] < inputList[left]:\n",
    "         root = left\n",
    "        \n",
    "    if right < listLength and inputList[root] < inputList[right]:\n",
    "        root = right\n",
    "    \n",
    "    if root != index: # If the root has been changed and no longer matches, the index, the values stored at the new root and the index are swapped\n",
    "        inputList[index], inputList[root] = inputList[root], inputList[index] # Values are swapped\n",
    "        \n",
    "        numCompares += to_heap(inputList, listLength, root) # The tree is recreated with the the new root\n",
    "        \n",
    "    return numCompares\n",
    "\n",
    "        \n",
    "testList = []\n",
    "for i in range(0, 10):\n",
    "    testList.append(rand.randint(1, 255))\n",
    "print(testList)\n",
    "\n",
    "heap_sort(testList)\n",
    "print(testList)"
   ]
  },
  {
   "cell_type": "code",
   "execution_count": null,
   "id": "b2c349d1",
   "metadata": {},
   "outputs": [],
   "source": []
  }
 ],
 "metadata": {
  "kernelspec": {
   "display_name": "Python 3 (ipykernel)",
   "language": "python",
   "name": "python3"
  },
  "language_info": {
   "codemirror_mode": {
    "name": "ipython",
    "version": 3
   },
   "file_extension": ".py",
   "mimetype": "text/x-python",
   "name": "python",
   "nbconvert_exporter": "python",
   "pygments_lexer": "ipython3",
   "version": "3.9.7"
  }
 },
 "nbformat": 4,
 "nbformat_minor": 5
}
