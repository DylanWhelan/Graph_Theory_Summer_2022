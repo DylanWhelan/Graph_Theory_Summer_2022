{
 "cells": [
  {
   "cell_type": "markdown",
   "id": "28ddbeaa",
   "metadata": {},
   "source": [
    "# The Heapsort"
   ]
  },
  {
   "cell_type": "code",
   "execution_count": 1,
   "id": "0f173f05",
   "metadata": {},
   "outputs": [],
   "source": [
    "# Imports\n",
    "import random as rand\n",
    "import networkx as nx\n",
    "import matplotlib.pyplot as plt\n",
    "import copy"
   ]
  },
  {
   "cell_type": "markdown",
   "id": "189cfb1f",
   "metadata": {},
   "source": [
    "## Definition of a rooted binary tree\n",
    "To define a rooted binary tree, it is important to understand what a tree is, so we will begin with defining a tree as regards graph theory:\n",
    "\n",
    "A tree is an undirected graph in which there is always one path between any of its points:\n",
    "\n",
    "<B>Undirected:</B> In this context, undirected means that each connection between vertices is bidirectional (i.e. if p<sup>1</sup> is connected to p<sup>2</sup> then p<sup>2</sup> is also connected to p<sup>1</sup>)\n",
    "\n",
    "<B>Path:</B> A path is the sequence of connections between vertices, in the case of a tree, there must be one and only valid path between vertices on a graph. (E.g. Graph 1 below is a valid example of a tree, as there is only one possible path between any of the vertices. Graph 2 is not as each of the vertices have multiple paths to one another)"
   ]
  },
  {
   "cell_type": "code",
   "execution_count": 2,
   "id": "ac143e6c",
   "metadata": {},
   "outputs": [
    {
     "data": {
      "image/png": "[encoded data removed]",
      "text/plain": [
       "<Figure size 432x288 with 2 Axes>"
      ]
     },
     "metadata": {},
     "output_type": "display_data"
    }
   ],
   "source": [
    "# Graphs to be used as visual aid for definition of paths\n",
    "example1 = nx.Graph()\n",
    "example1Connections = [('1', '2'), ('1', '3'), ('3', '4')]\n",
    "example1.add_edges_from(example1Connections)\n",
    "\n",
    "example2 = nx.Graph()\n",
    "example2Connections = [('A', 'B'), ('A', 'D'), ('B', 'C'), ('C', 'D')]\n",
    "example2.add_edges_from(example2Connections)\n",
    "\n",
    "plt.subplot(121)\n",
    "plt.title('Graph 1')\n",
    "nx.draw(example1, with_labels=True, node_color=\"red\")\n",
    "\n",
    "plt.subplot(122)\n",
    "plt.title(\"Graph 2\")\n",
    "nx.draw(example2, with_labels=True, node_color=\"green\")\n",
    "\n",
    "plt.show()"
   ]
  },
  {
   "cell_type": "markdown",
   "id": "642df364",
   "metadata": {},
   "source": [
    "Now that the tree has been defined, it is time to define what rooted means in this context: "
   ]
  },
  {
   "cell_type": "markdown",
   "id": "31a40667",
   "metadata": {},
   "source": [
    "## Python implementation of the Heapsort"
   ]
  },
  {
   "cell_type": "code",
   "execution_count": 3,
   "id": "0bbcbcb2",
   "metadata": {},
   "outputs": [
    {
     "name": "stdout",
     "output_type": "stream",
     "text": [
      "[4, 193, 46, 239, 145, 208, 36, 117, 191, 137]\n",
      "[4, 36, 46, 117, 137, 145, 191, 193, 208, 239]\n"
     ]
    }
   ],
   "source": [
    "# Implementation of the Heapsort\n",
    "# The functions used here were derived from the heapsort function on this page: https://www.geeksforgeeks.org/heap-sort/\n",
    "def heap_sort(inputList): # The function for sorting lists is created here, the inputList is the list to sort\n",
    "    length = len(inputList)\n",
    "    \n",
    "    numCompares = 0\n",
    "    \n",
    "    for i in range(length//2 - 1, -1, -1): # The max heap is created\n",
    "        to_heap(inputList, length, i)\n",
    "    \n",
    "    for i in range(length-1, 0, -1): # The heap is reverted back to list form\n",
    "        inputList[i], inputList[0] = inputList[0], inputList[i]\n",
    "        to_heap(inputList, i, 0)\n",
    "\n",
    "def to_heap(inputList, listLength, index): # A subtree is created with the index value being the root\n",
    "    \n",
    "    numCompares = 0\n",
    "    \n",
    "    root = index\n",
    "    left = 2 * index + 1\n",
    "    right = 2 * index + 2\n",
    "    \n",
    "     # The root must be larger than either of it's children, or it will be swapped with the larger child\n",
    "    if left < listLength and inputList[root] < inputList[left]:\n",
    "         root = left\n",
    "        \n",
    "    if right < listLength and inputList[root] < inputList[right]:\n",
    "        root = right\n",
    "    \n",
    "    if root != index: # If the root has been changed and no longer matches, the index, the values stored at the new root and the index are swapped\n",
    "        inputList[index], inputList[root] = inputList[root], inputList[index] # Values are swapped\n",
    "        \n",
    "        numCompares += to_heap(inputList, listLength, root) # The tree is recreated with the the new root\n",
    "        \n",
    "    return numCompares\n",
    "\n",
    "        \n",
    "testList = []\n",
    "for i in range(0, 10):\n",
    "    testList.append(rand.randint(1, 255))\n",
    "print(testList)\n",
    "\n",
    "heap_sort(testList)\n",
    "print(testList)"
   ]
  },
  {
   "cell_type": "code",
   "execution_count": null,
   "id": "aa595199",
   "metadata": {},
   "outputs": [],
   "source": []
  }
 ],
 "metadata": {
  "kernelspec": {
   "display_name": "Python 3 (ipykernel)",
   "language": "python",
   "name": "python3"
  },
  "language_info": {
   "codemirror_mode": {
    "name": "ipython",
    "version": 3
   },
   "file_extension": ".py",
   "mimetype": "text/x-python",
   "name": "python",
   "nbconvert_exporter": "python",
   "pygments_lexer": "ipython3",
   "version": "3.9.7"
  }
 },
 "nbformat": 4,
 "nbformat_minor": 5
}
